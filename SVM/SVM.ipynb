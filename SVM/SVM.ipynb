{
 "cells": [
  {
   "cell_type": "code",
   "execution_count": 1,
   "metadata": {
    "collapsed": true
   },
   "outputs": [],
   "source": [
    "import numpy as np\n",
    "import pandas as pd"
   ]
  },
  {
   "cell_type": "code",
   "execution_count": 2,
   "metadata": {
    "collapsed": true
   },
   "outputs": [],
   "source": [
    "dataFrame = pd.read_csv(\"loans_data.csv\")\n",
    "# dataFrame"
   ]
  },
  {
   "cell_type": "code",
   "execution_count": 3,
   "metadata": {
    "collapsed": true
   },
   "outputs": [],
   "source": [
    "ColumnLabels = np.array(list(dataFrame))\n",
    "Train_Matrix = np.matrix(dataFrame.iloc[:, 1:])\n",
    "Target_Vector = np.array(dataFrame.iloc[:,0])"
   ]
  },
  {
   "cell_type": "code",
   "execution_count": 4,
   "metadata": {
    "collapsed": true
   },
   "outputs": [],
   "source": [
    "Grade = Train_Matrix[:, 0]\n",
    "# Grade"
   ]
  },
  {
   "cell_type": "code",
   "execution_count": 5,
   "metadata": {
    "collapsed": true
   },
   "outputs": [],
   "source": [
    "home_ownership = Train_Matrix[:, 4]\n",
    "# home_ownership"
   ]
  },
  {
   "cell_type": "code",
   "execution_count": 6,
   "metadata": {
    "collapsed": true
   },
   "outputs": [],
   "source": [
    "purpose = Train_Matrix[:, 6]\n",
    "# purpose"
   ]
  },
  {
   "cell_type": "markdown",
   "metadata": {},
   "source": [
    "## Using 1 of K method to replace categorial feature"
   ]
  },
  {
   "cell_type": "code",
   "execution_count": 7,
   "metadata": {
    "collapsed": true
   },
   "outputs": [],
   "source": [
    "Clean_Matrix_un = np.delete(Train_Matrix, [0, 4, 6], 1)\n",
    "# Clean_Matrix_un"
   ]
  },
  {
   "cell_type": "markdown",
   "metadata": {},
   "source": [
    "# Normalize Clean_Matrix"
   ]
  },
  {
   "cell_type": "code",
   "execution_count": 8,
   "metadata": {},
   "outputs": [
    {
     "name": "stderr",
     "output_type": "stream",
     "text": [
      "/usr/local/lib/python3.5/dist-packages/sklearn/utils/validation.py:429: DataConversionWarning: Data with input dtype object was converted to float64 by the scale function.\n",
      "  warnings.warn(msg, _DataConversionWarning)\n",
      "/usr/local/lib/python3.5/dist-packages/sklearn/utils/validation.py:429: DataConversionWarning: Data with input dtype object was converted to float64.\n",
      "  warnings.warn(msg, _DataConversionWarning)\n"
     ]
    }
   ],
   "source": [
    "from sklearn.preprocessing import minmax_scale,scale\n",
    "Clean_Matrix_Standard = scale(Clean_Matrix_un)\n",
    "Clean_Matrix = minmax_scale(Clean_Matrix_Standard)\n",
    "# Clean_Matrix = Clean_Matrix_Standard\n",
    "# Clean_Matrix = minmax_scale(Clean_Matrix_un)\n",
    "# Clean_Matrix"
   ]
  },
  {
   "cell_type": "markdown",
   "metadata": {},
   "source": [
    "## Clean Grade Field Ex: A =>(1,0,0,0,0,0,0)"
   ]
  },
  {
   "cell_type": "code",
   "execution_count": 9,
   "metadata": {
    "collapsed": true
   },
   "outputs": [],
   "source": [
    "def clean_grade(grade_matrix):\n",
    "    new_matrix = np.zeros(shape=(grade_matrix.shape[0], 7))\n",
    "    for row_number in range(len(grade_matrix)):\n",
    "        symbol = grade_matrix[row_number, 0]\n",
    "        arr = np.zeros(7)\n",
    "        arr[ord(symbol) - ord('A')] = 1\n",
    "        new_matrix[row_number, :] = arr\n",
    "    return new_matrix\n",
    "Clean_Grade_Matrix = clean_grade(Grade)\n",
    "new_matrix = np.hstack((Clean_Matrix,Clean_Grade_Matrix))"
   ]
  },
  {
   "cell_type": "code",
   "execution_count": 10,
   "metadata": {
    "collapsed": true
   },
   "outputs": [],
   "source": [
    "def clean_home_ownership(home_ownership_matrix):\n",
    "    new_matrix = np.zeros(shape=(home_ownership_matrix.shape[0], 4))\n",
    "    for row_number in range(len(home_ownership_matrix)):\n",
    "        symbol = home_ownership_matrix[row_number, 0]\n",
    "        arr = np.zeros(4)\n",
    "        if symbol == 'OWN':\n",
    "            arr[0] = 1\n",
    "        elif symbol == 'MORTGAGE':\n",
    "            arr[1] = 1\n",
    "        elif symbol == 'RENT':\n",
    "            arr[2] = 1\n",
    "        elif symbol == 'OTHER':\n",
    "            arr[3] = 1\n",
    "        else:\n",
    "            print(symbol)\n",
    "        new_matrix[row_number, :] = arr\n",
    "    return new_matrix\n",
    "Clean_HomeOwnership_Matrix = clean_home_ownership(home_ownership)\n",
    "new_matrix2 = np.hstack((new_matrix, Clean_HomeOwnership_Matrix))"
   ]
  },
  {
   "cell_type": "code",
   "execution_count": 11,
   "metadata": {
    "collapsed": true
   },
   "outputs": [],
   "source": [
    "def clean_purpose(purpose_matrix):\n",
    "    new_matrix = np.zeros(shape=(purpose_matrix.shape[0], 12))\n",
    "    for row_number in range(len(purpose_matrix)):\n",
    "        symbol = purpose_matrix[row_number, 0]\n",
    "        arr = np.zeros(12)\n",
    "        if symbol == 'credit_card':\n",
    "            arr[0] = 1\n",
    "        elif symbol == 'medical':\n",
    "            arr[1] = 1\n",
    "        elif symbol == 'debt_consolidation':\n",
    "            arr[2] = 1\n",
    "        elif symbol == 'car':\n",
    "            arr[3] = 1\n",
    "        elif symbol == 'small_business':\n",
    "            arr[4] = 1\n",
    "        elif symbol == 'home_improvement':\n",
    "            arr[5] = 1\n",
    "        elif symbol == 'vacation':\n",
    "            arr[6] = 1\n",
    "        elif symbol == 'major_purchase':\n",
    "            arr[7] = 1\n",
    "        elif symbol == 'moving':\n",
    "            arr[8] = 1\n",
    "        elif symbol == 'wedding':\n",
    "            arr[9] = 1\n",
    "        elif symbol == 'house':\n",
    "            arr[10] = 1\n",
    "        elif symbol == 'other':\n",
    "            arr[11] = 1\n",
    "        else:\n",
    "            print(symbol)\n",
    "        new_matrix[row_number, :] = arr\n",
    "    return new_matrix\n",
    "Clean_Purpose_Matrix = clean_purpose(purpose)\n",
    "Final_Matrix = np.hstack((new_matrix2, Clean_HomeOwnership_Matrix))"
   ]
  },
  {
   "cell_type": "markdown",
   "metadata": {},
   "source": [
    "### Final Matrix is the result using 1 of k method"
   ]
  },
  {
   "cell_type": "code",
   "execution_count": 12,
   "metadata": {},
   "outputs": [
    {
     "data": {
      "text/plain": [
       "array([[ 0.5       ,  0.        ,  1.        , ...,  0.        ,\n",
       "         0.        ,  0.        ],\n",
       "       [ 0.        ,  0.        ,  0.27272727, ...,  1.        ,\n",
       "         0.        ,  0.        ],\n",
       "       [ 0.5       ,  1.        ,  0.09090909, ...,  0.        ,\n",
       "         1.        ,  0.        ],\n",
       "       ..., \n",
       "       [ 1.        ,  1.        ,  0.        , ...,  1.        ,\n",
       "         0.        ,  0.        ],\n",
       "       [ 0.5       ,  0.        ,  0.54545455, ...,  1.        ,\n",
       "         0.        ,  0.        ],\n",
       "       [ 1.        ,  0.        ,  1.        , ...,  1.        ,\n",
       "         0.        ,  0.        ]])"
      ]
     },
     "execution_count": 12,
     "metadata": {},
     "output_type": "execute_result"
    }
   ],
   "source": [
    "Final_Matrix"
   ]
  },
  {
   "cell_type": "code",
   "execution_count": 13,
   "metadata": {},
   "outputs": [
    {
     "data": {
      "text/plain": [
       "array([ 1,  1,  1, ..., -1, -1, -1])"
      ]
     },
     "execution_count": 13,
     "metadata": {},
     "output_type": "execute_result"
    }
   ],
   "source": [
    "Target_Vector"
   ]
  },
  {
   "cell_type": "markdown",
   "metadata": {},
   "source": [
    "## Start Training SVM"
   ]
  },
  {
   "cell_type": "code",
   "execution_count": 14,
   "metadata": {
    "collapsed": true
   },
   "outputs": [],
   "source": [
    "from sklearn.svm import SVC,LinearSVC\n",
    "from sklearn.metrics import accuracy_score"
   ]
  },
  {
   "cell_type": "code",
   "execution_count": 52,
   "metadata": {
    "collapsed": true
   },
   "outputs": [],
   "source": [
    "def svm_normal(Final, Target, test_final, test_target,max_iters=1000):\n",
    "#     clf = SVC(max_iter=max_iters,cache_size=3000,class_weight='balanced',gamma='auto',C=00.1)\n",
    "    clf = SVC(max_iter=max_iters,cache_size=3000,gamma=0.01,C=1)\n",
    "    clf.fit(Final, Target)\n",
    "    Predict_Y = clf.predict(test_final)\n",
    "    acs = accuracy_score(test_target,Predict_Y)\n",
    "    return acs"
   ]
  },
  {
   "cell_type": "markdown",
   "metadata": {},
   "source": [
    "## Using LinearSVC for fast training for linear svm"
   ]
  },
  {
   "cell_type": "code",
   "execution_count": 53,
   "metadata": {
    "collapsed": true
   },
   "outputs": [],
   "source": [
    "def svm_linear(Final, Target, test_final, test_target,max_iters=1000):\n",
    "#     clf2 = SVC(kernel='linear',max_iter=max_iters,class_weight='balanced')\n",
    "#     clf2 = SVC(kernel='linear',cache_size=3000,max_iter=max_iters)\n",
    "    clf2 = LinearSVC(max_iter = max_iters \n",
    "                     ,C=1\n",
    "                     , class_weight = 'balanced'\n",
    "                     ,penalty='l2'\n",
    "                     ,loss='squared_hinge'\n",
    "                     ,dual = False\n",
    "                     ,random_state = 43)\n",
    "    clf2.fit(Final, Target)\n",
    "    Predict_Y2 = clf2.predict(test_final)\n",
    "    acs = accuracy_score(test_target,Predict_Y2)\n",
    "    return acs"
   ]
  },
  {
   "cell_type": "markdown",
   "metadata": {},
   "source": [
    "## Using KFold ( K = 12 ) To Evaluate Model Performance"
   ]
  },
  {
   "cell_type": "code",
   "execution_count": 20,
   "metadata": {
    "collapsed": true
   },
   "outputs": [],
   "source": [
    "from sklearn.model_selection import KFold\n",
    "split_num = 12"
   ]
  },
  {
   "cell_type": "code",
   "execution_count": 21,
   "metadata": {
    "collapsed": true
   },
   "outputs": [],
   "source": [
    "kf1 = KFold(n_splits=split_num, shuffle=True)\n",
    "linear_score = 0\n",
    "linear_iter = 100000\n",
    "for train, test in kf1.split(Final_Matrix):\n",
    "    train_feature, test_feature = Final_Matrix[train], Final_Matrix[test]\n",
    "    train_target, test_target = Target_Vector[train], Target_Vector[test]\n",
    "    linear_score += svm_linear(train_feature, train_target, test_feature, test_target,linear_iter)"
   ]
  },
  {
   "cell_type": "code",
   "execution_count": null,
   "metadata": {},
   "outputs": [
    {
     "name": "stdout",
     "output_type": "stream",
     "text": [
      "linear kernel 0.661377137499\n"
     ]
    }
   ],
   "source": [
    "print('linear kernel',linear_score/split_num)"
   ]
  },
  {
   "cell_type": "code",
   "execution_count": null,
   "metadata": {
    "collapsed": true
   },
   "outputs": [],
   "source": [
    "normal_score = 0\n",
    "normal_iter = 30000\n",
    "kf2 = KFold(n_splits=split_num, shuffle=True)\n",
    "for train, test in kf2.split(Final_Matrix):\n",
    "    train_feature, test_feature = Final_Matrix[train], Final_Matrix[test]\n",
    "    train_target, test_target = Target_Vector[train], Target_Vector[test]\n",
    "    normal_score += svm_normal(train_feature, train_target, test_feature, test_target,normal_iter)"
   ]
  },
  {
   "cell_type": "code",
   "execution_count": 27,
   "metadata": {},
   "outputs": [
    {
     "name": "stdout",
     "output_type": "stream",
     "text": [
      "rbf kernel 0.611229673646\n"
     ]
    }
   ],
   "source": [
    "print('rbf kernel',normal_score/split_num)"
   ]
  },
  {
   "cell_type": "code",
   "execution_count": null,
   "metadata": {
    "collapsed": true
   },
   "outputs": [],
   "source": []
  }
 ],
 "metadata": {
  "kernelspec": {
   "display_name": "Python 3",
   "language": "python",
   "name": "python3"
  },
  "language_info": {
   "codemirror_mode": {
    "name": "ipython",
    "version": 3
   },
   "file_extension": ".py",
   "mimetype": "text/x-python",
   "name": "python",
   "nbconvert_exporter": "python",
   "pygments_lexer": "ipython3",
   "version": "3.5.2"
  }
 },
 "nbformat": 4,
 "nbformat_minor": 1
}
